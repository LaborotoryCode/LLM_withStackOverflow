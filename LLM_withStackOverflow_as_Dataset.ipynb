{
 "cells": [
  {
   "cell_type": "code",
   "execution_count": 1,
   "metadata": {},
   "outputs": [],
   "source": [
    "#Ayaan experimenting with tensorflow LLMs cause hes cool"
   ]
  },
  {
   "cell_type": "code",
   "execution_count": 4,
   "metadata": {},
   "outputs": [
    {
     "name": "stdout",
     "output_type": "stream",
     "text": [
      "Requirement already satisfied: numpy in c:\\python312\\lib\\site-packages (1.26.3)\n"
     ]
    },
    {
     "name": "stderr",
     "output_type": "stream",
     "text": [
      "\n",
      "[notice] A new release of pip is available: 23.2.1 -> 23.3.2\n",
      "[notice] To update, run: python.exe -m pip install --upgrade pip\n"
     ]
    },
    {
     "name": "stdout",
     "output_type": "stream",
     "text": [
      "Requirement already satisfied: pandas in c:\\python312\\lib\\site-packages (2.1.4)\n",
      "Requirement already satisfied: numpy<2,>=1.26.0 in c:\\python312\\lib\\site-packages (from pandas) (1.26.3)\n",
      "Requirement already satisfied: python-dateutil>=2.8.2 in c:\\users\\ayaan\\appdata\\roaming\\python\\python312\\site-packages (from pandas) (2.8.2)\n",
      "Requirement already satisfied: pytz>=2020.1 in c:\\python312\\lib\\site-packages (from pandas) (2023.3.post1)\n",
      "Requirement already satisfied: tzdata>=2022.1 in c:\\python312\\lib\\site-packages (from pandas) (2023.4)\n",
      "Requirement already satisfied: six>=1.5 in c:\\users\\ayaan\\appdata\\roaming\\python\\python312\\site-packages (from python-dateutil>=2.8.2->pandas) (1.16.0)\n"
     ]
    },
    {
     "name": "stderr",
     "output_type": "stream",
     "text": [
      "\n",
      "[notice] A new release of pip is available: 23.2.1 -> 23.3.2\n",
      "[notice] To update, run: python.exe -m pip install --upgrade pip\n"
     ]
    }
   ],
   "source": [
    "# I need the data kinda pretty please\n",
    "! pip install numpy\n",
    "! pip install pandas"
   ]
  },
  {
   "cell_type": "code",
   "execution_count": 25,
   "metadata": {},
   "outputs": [
    {
     "name": "stdout",
     "output_type": "stream",
     "text": [
      "607283\n",
      "[[\"The question is: <p>I am using the Photoshop's javascript API to find the fonts in a given PSD.</p>\\n\\n<p>Given a font name returned by the API, I want to find the actual physical font file that that font name corresponds to on the disc.</p>\\n\\n<p>This is all happening in a python program running on OSX so I guess I'm looking for one of:</p>\\n\\n<ul>\\n<li>Some Photoshop javascript</li>\\n<li>A Python function</li>\\n<li>An OSX API that I can call from python</li>\\n</ul>\\nThe answer is: <p>open up a terminal (Applications-&gt;Utilities-&gt;Terminal) and type this in:</p>\\r\\n\\r\\n<pre><code>locate InsertFontHere<br></code></pre>\\r\\n\\r\\n<p>This will spit out every file that has the name you want.</p>\\r\\n\\r\\n<p>Warning: there may be alot to wade through.</p>\"], ['The question is: <p>I have a cross-platform (Python) application which needs to generate a JPEG preview of the first page of a PDF.</p>\\n\\n<p>On the Mac I am spawning <a href=\"http://developer.apple.com/documentation/Darwin/Reference/ManPages/man1/sips.1.html\">sips</a>.  Is there something similarly simple I can do on Windows?</p>\\nThe answer is: <p>I haven\\'t been able to find anything that does this directly.  I think you\\'ll have to iterate through the various font folders on the system: <code>/System/Library/Fonts</code>, <code>/Library/Fonts</code>, and there can probably be a user-level directory as well <code>~/Library/Fonts</code>.</p>\\n'], ['The question is: <p>I\\'m starting work on a hobby project with a python codebase and would like to set up some form of continuous integration (i.e. running a battery of test-cases each time a check-in is made and sending nag e-mails to responsible persons when the tests fail) similar to CruiseControl or TeamCity.</p>\\n\\n<p>I realize I could do this with hooks in most VCSes, but that requires that the tests run on the same machine as the version control server, which isn\\'t as elegant as I would like. Does anyone have any suggestions for a small, user-friendly, open-source continuous integration system suitable for a Python codebase?</p>\\nThe answer is: <p>You can use ImageMagick\\'s convert utility for this, see some examples in <a href=\"https://web.archive.org/web/20120413111338/http://studio.imagemagick.org/pipermail/magick-users/2002-May/002636.html\" rel=\"nofollow\">http://studio.imagemagick.org/pipermail/magick-users/2002-May/002636.html</a>\\n:</p>\\n\\n<blockquote>\\n<pre><code>Convert taxes.pdf taxes.jpg \\n</code></pre>\\n  \\n  <p>Will convert a two page PDF file into [2] jpeg files: taxes.jpg.0,\\n  taxes.jpg.1</p>\\n  \\n  <p>I can also convert these JPEGS to a thumbnail as follows:</p>\\n\\n<pre><code>convert -size 120x120 taxes.jpg.0 -geometry 120x120 +profile \\'*\\' thumbnail.jpg\\n</code></pre>\\n  \\n  <p>I can even convert the PDF directly to a jpeg thumbnail as follows:</p>\\n\\n<pre><code>convert -size 120x120 taxes.pdf -geometry 120x120 +profile \\'*\\' thumbnail.jpg\\n</code></pre>\\n  \\n  <p>This will result in a thumbnail.jpg.0 and thumbnail.jpg.1 for the two\\n  pages.</p>\\n</blockquote>\\n'], ['The question is: <p>There are several ways to iterate over a result set. What are the tradeoff of each?</p>\\nThe answer is: <p>One possibility is Hudson.  It\\'s written in Java, but there\\'s integration with Python projects:</p>\\n\\n<blockquote>\\n  <p><a href=\"http://redsolo.blogspot.com/2007/11/hudson-embraces-python.html\" rel=\"nofollow\">Hudson embraces Python</a></p>\\n</blockquote>\\n\\n<p>I\\'ve never tried it myself, however.</p>\\n\\n<p>(<strong>Update</strong>, Sept. 2011: After a trademark dispute Hudson has been renamed to <a href=\"http://jenkins-ci.org/\" rel=\"nofollow\">Jenkins</a>.)</p>\\n'], ['The question is: <p>I don\\'t remember whether I was dreaming or not but I seem to recall there being a function which allowed something like,</p>\\r\\n\\r\\n<pre><code>foo in iter_attr(array of python objects, attribute name)</code></pre>\\r\\n\\r\\n<p>I\\'ve looked over the docs but this kind of thing doesn\\'t fall under any obvious listed headers</p>The answer is: <p>We run <a href=\"http://buildbot.net/trac\">Buildbot - Trac</a> at work, I haven\\'t used it too much since my code base isn\\'t part of the release cycle yet. But we run the tests on different environments (OSX/Linux/Win) and it sends emails --and it\\'s written in python.</p>']]\n"
     ]
    }
   ],
   "source": [
    "#They actually taught me this in that Google course\n",
    "\n",
    "import numpy as np\n",
    "import pandas as pd\n",
    "\n",
    "df = pd.read_csv(\"C:/Users/ayaan/Downloads/archive/Tags.csv\")\n",
    "tags = []\n",
    "\n",
    "for i in range(0, len(df)):\n",
    "    #since this is supposed to be simple we only want python no packages\n",
    "    if df[\"Tag\"][i] == \"python\":\n",
    "        tags.append(df[\"Id\"][i]) \n",
    "\n",
    "print(len(tags))\n",
    "\n",
    "df_Q = pd.read_csv(\"C:/Users/ayaan/Downloads/archive/Questions.csv\", encoding=\"ISO-8859-1\")\n",
    "df_A = pd.read_csv(\"C:/Users/ayaan/Downloads/archive/Answers.csv\", encoding=\"ISO-8859-1\")\n",
    "QnA = []\n",
    "\n",
    "for i in range(0, 100000):\n",
    "    if df[\"Id\"][i] in tags:\n",
    "        Q = df_Q[\"Body\"][i]\n",
    "        A = df_A[\"Body\"][i]\n",
    "        final = \"The question is: \"+Q+\"The answer is: \"+A\n",
    "        QnA.append([final])\n",
    "\n",
    "print(QnA[:5])\n",
    "\n"
   ]
  },
  {
   "cell_type": "code",
   "execution_count": null,
   "metadata": {},
   "outputs": [],
   "source": [
    "! pip install transformers\n",
    "! pip install tensorflow\n",
    "! pip install nltk\n",
    "! pip install requests --user\n",
    "! pip install bs4"
   ]
  },
  {
   "cell_type": "code",
   "execution_count": 31,
   "metadata": {},
   "outputs": [
    {
     "ename": "LookupError",
     "evalue": "\n**********************************************************************\n  Resource \u001b[93mpunkt\u001b[0m not found.\n  Please use the NLTK Downloader to obtain the resource:\n\n  \u001b[31m>>> import nltk\n  >>> nltk.download('punkt')\n  \u001b[0m\n  For more information see: https://www.nltk.org/data.html\n\n  Attempted to load \u001b[93mtokenizers/punkt/english.pickle\u001b[0m\n\n  Searched in:\n    - 'C:\\\\Users\\\\ayaan/nltk_data'\n    - 'c:\\\\Python312\\\\nltk_data'\n    - 'c:\\\\Python312\\\\share\\\\nltk_data'\n    - 'c:\\\\Python312\\\\lib\\\\nltk_data'\n    - 'C:\\\\Users\\\\ayaan\\\\AppData\\\\Roaming\\\\nltk_data'\n    - 'C:\\\\nltk_data'\n    - 'D:\\\\nltk_data'\n    - 'E:\\\\nltk_data'\n    - ''\n**********************************************************************\n",
     "output_type": "error",
     "traceback": [
      "\u001b[1;31m---------------------------------------------------------------------------\u001b[0m",
      "\u001b[1;31mLookupError\u001b[0m                               Traceback (most recent call last)",
      "\u001b[1;32mUntitled-1.ipynb Cell 5\u001b[0m line \u001b[0;36m2\n\u001b[0;32m     <a href='vscode-notebook-cell:Untitled-1.ipynb?jupyter-notebook#W2sdW50aXRsZWQ%3D?line=20'>21</a>\u001b[0m corpus \u001b[39m=\u001b[39m []\n\u001b[0;32m     <a href='vscode-notebook-cell:Untitled-1.ipynb?jupyter-notebook#W2sdW50aXRsZWQ%3D?line=22'>23</a>\u001b[0m \u001b[39mfor\u001b[39;00m i \u001b[39min\u001b[39;00m \u001b[39mrange\u001b[39m(\u001b[39m0\u001b[39m, \u001b[39m3\u001b[39m):\n\u001b[1;32m---> <a href='vscode-notebook-cell:Untitled-1.ipynb?jupyter-notebook#W2sdW50aXRsZWQ%3D?line=23'>24</a>\u001b[0m     corpus\u001b[39m.\u001b[39mappend(preprocess_text(\u001b[39mstr\u001b[39;49m(QnA[i])))\n\u001b[0;32m     <a href='vscode-notebook-cell:Untitled-1.ipynb?jupyter-notebook#W2sdW50aXRsZWQ%3D?line=24'>25</a>\u001b[0m     \u001b[39mprint\u001b[39m(corpus[i])\n\u001b[0;32m     <a href='vscode-notebook-cell:Untitled-1.ipynb?jupyter-notebook#W2sdW50aXRsZWQ%3D?line=26'>27</a>\u001b[0m \u001b[39mprint\u001b[39m(\u001b[39mlen\u001b[39m(corpus))\n",
      "\u001b[1;32mUntitled-1.ipynb Cell 5\u001b[0m line \u001b[0;36m1\n\u001b[0;32m      <a href='vscode-notebook-cell:Untitled-1.ipynb?jupyter-notebook#W2sdW50aXRsZWQ%3D?line=7'>8</a>\u001b[0m \u001b[39mdef\u001b[39;00m \u001b[39mpreprocess_text\u001b[39m(text):\n\u001b[0;32m      <a href='vscode-notebook-cell:Untitled-1.ipynb?jupyter-notebook#W2sdW50aXRsZWQ%3D?line=8'>9</a>\u001b[0m     text \u001b[39m=\u001b[39m text\u001b[39m.\u001b[39mencode(\u001b[39m\"\u001b[39m\u001b[39mascii\u001b[39m\u001b[39m\"\u001b[39m, \u001b[39m\"\u001b[39m\u001b[39mignore\u001b[39m\u001b[39m\"\u001b[39m)\u001b[39m.\u001b[39mdecode(\u001b[39m\"\u001b[39m\u001b[39mutf-8\u001b[39m\u001b[39m\"\u001b[39m) \u001b[39m#ignore non-printable chars\u001b[39;00m\n\u001b[1;32m---> <a href='vscode-notebook-cell:Untitled-1.ipynb?jupyter-notebook#W2sdW50aXRsZWQ%3D?line=10'>11</a>\u001b[0m     tokens \u001b[39m=\u001b[39m word_tokenize(text)\n\u001b[0;32m     <a href='vscode-notebook-cell:Untitled-1.ipynb?jupyter-notebook#W2sdW50aXRsZWQ%3D?line=12'>13</a>\u001b[0m     \u001b[39m#Heard that stopwords are important\u001b[39;00m\n\u001b[0;32m     <a href='vscode-notebook-cell:Untitled-1.ipynb?jupyter-notebook#W2sdW50aXRsZWQ%3D?line=13'>14</a>\u001b[0m     stop_words \u001b[39m=\u001b[39m \u001b[39mset\u001b[39m(stopwords\u001b[39m.\u001b[39mwords(\u001b[39m\"\u001b[39m\u001b[39menglish\u001b[39m\u001b[39m\"\u001b[39m))\n",
      "File \u001b[1;32mc:\\Python312\\Lib\\site-packages\\nltk\\tokenize\\__init__.py:129\u001b[0m, in \u001b[0;36mword_tokenize\u001b[1;34m(text, language, preserve_line)\u001b[0m\n\u001b[0;32m    114\u001b[0m \u001b[39mdef\u001b[39;00m \u001b[39mword_tokenize\u001b[39m(text, language\u001b[39m=\u001b[39m\u001b[39m\"\u001b[39m\u001b[39menglish\u001b[39m\u001b[39m\"\u001b[39m, preserve_line\u001b[39m=\u001b[39m\u001b[39mFalse\u001b[39;00m):\n\u001b[0;32m    115\u001b[0m \u001b[39m    \u001b[39m\u001b[39m\"\"\"\u001b[39;00m\n\u001b[0;32m    116\u001b[0m \u001b[39m    Return a tokenized copy of *text*,\u001b[39;00m\n\u001b[0;32m    117\u001b[0m \u001b[39m    using NLTK's recommended word tokenizer\u001b[39;00m\n\u001b[1;32m   (...)\u001b[0m\n\u001b[0;32m    127\u001b[0m \u001b[39m    :type preserve_line: bool\u001b[39;00m\n\u001b[0;32m    128\u001b[0m \u001b[39m    \"\"\"\u001b[39;00m\n\u001b[1;32m--> 129\u001b[0m     sentences \u001b[39m=\u001b[39m [text] \u001b[39mif\u001b[39;00m preserve_line \u001b[39melse\u001b[39;00m sent_tokenize(text, language)\n\u001b[0;32m    130\u001b[0m     \u001b[39mreturn\u001b[39;00m [\n\u001b[0;32m    131\u001b[0m         token \u001b[39mfor\u001b[39;00m sent \u001b[39min\u001b[39;00m sentences \u001b[39mfor\u001b[39;00m token \u001b[39min\u001b[39;00m _treebank_word_tokenizer\u001b[39m.\u001b[39mtokenize(sent)\n\u001b[0;32m    132\u001b[0m     ]\n",
      "File \u001b[1;32mc:\\Python312\\Lib\\site-packages\\nltk\\tokenize\\__init__.py:106\u001b[0m, in \u001b[0;36msent_tokenize\u001b[1;34m(text, language)\u001b[0m\n\u001b[0;32m     96\u001b[0m \u001b[39mdef\u001b[39;00m \u001b[39msent_tokenize\u001b[39m(text, language\u001b[39m=\u001b[39m\u001b[39m\"\u001b[39m\u001b[39menglish\u001b[39m\u001b[39m\"\u001b[39m):\n\u001b[0;32m     97\u001b[0m \u001b[39m    \u001b[39m\u001b[39m\"\"\"\u001b[39;00m\n\u001b[0;32m     98\u001b[0m \u001b[39m    Return a sentence-tokenized copy of *text*,\u001b[39;00m\n\u001b[0;32m     99\u001b[0m \u001b[39m    using NLTK's recommended sentence tokenizer\u001b[39;00m\n\u001b[1;32m   (...)\u001b[0m\n\u001b[0;32m    104\u001b[0m \u001b[39m    :param language: the model name in the Punkt corpus\u001b[39;00m\n\u001b[0;32m    105\u001b[0m \u001b[39m    \"\"\"\u001b[39;00m\n\u001b[1;32m--> 106\u001b[0m     tokenizer \u001b[39m=\u001b[39m load(\u001b[39mf\u001b[39;49m\u001b[39m\"\u001b[39;49m\u001b[39mtokenizers/punkt/\u001b[39;49m\u001b[39m{\u001b[39;49;00mlanguage\u001b[39m}\u001b[39;49;00m\u001b[39m.pickle\u001b[39;49m\u001b[39m\"\u001b[39;49m)\n\u001b[0;32m    107\u001b[0m     \u001b[39mreturn\u001b[39;00m tokenizer\u001b[39m.\u001b[39mtokenize(text)\n",
      "File \u001b[1;32mc:\\Python312\\Lib\\site-packages\\nltk\\data.py:750\u001b[0m, in \u001b[0;36mload\u001b[1;34m(resource_url, format, cache, verbose, logic_parser, fstruct_reader, encoding)\u001b[0m\n\u001b[0;32m    747\u001b[0m     \u001b[39mprint\u001b[39m(\u001b[39mf\u001b[39m\u001b[39m\"\u001b[39m\u001b[39m<<Loading \u001b[39m\u001b[39m{\u001b[39;00mresource_url\u001b[39m}\u001b[39;00m\u001b[39m>>\u001b[39m\u001b[39m\"\u001b[39m)\n\u001b[0;32m    749\u001b[0m \u001b[39m# Load the resource.\u001b[39;00m\n\u001b[1;32m--> 750\u001b[0m opened_resource \u001b[39m=\u001b[39m _open(resource_url)\n\u001b[0;32m    752\u001b[0m \u001b[39mif\u001b[39;00m \u001b[39mformat\u001b[39m \u001b[39m==\u001b[39m \u001b[39m\"\u001b[39m\u001b[39mraw\u001b[39m\u001b[39m\"\u001b[39m:\n\u001b[0;32m    753\u001b[0m     resource_val \u001b[39m=\u001b[39m opened_resource\u001b[39m.\u001b[39mread()\n",
      "File \u001b[1;32mc:\\Python312\\Lib\\site-packages\\nltk\\data.py:876\u001b[0m, in \u001b[0;36m_open\u001b[1;34m(resource_url)\u001b[0m\n\u001b[0;32m    873\u001b[0m protocol, path_ \u001b[39m=\u001b[39m split_resource_url(resource_url)\n\u001b[0;32m    875\u001b[0m \u001b[39mif\u001b[39;00m protocol \u001b[39mis\u001b[39;00m \u001b[39mNone\u001b[39;00m \u001b[39mor\u001b[39;00m protocol\u001b[39m.\u001b[39mlower() \u001b[39m==\u001b[39m \u001b[39m\"\u001b[39m\u001b[39mnltk\u001b[39m\u001b[39m\"\u001b[39m:\n\u001b[1;32m--> 876\u001b[0m     \u001b[39mreturn\u001b[39;00m find(path_, path \u001b[39m+\u001b[39;49m [\u001b[39m\"\u001b[39;49m\u001b[39m\"\u001b[39;49m])\u001b[39m.\u001b[39mopen()\n\u001b[0;32m    877\u001b[0m \u001b[39melif\u001b[39;00m protocol\u001b[39m.\u001b[39mlower() \u001b[39m==\u001b[39m \u001b[39m\"\u001b[39m\u001b[39mfile\u001b[39m\u001b[39m\"\u001b[39m:\n\u001b[0;32m    878\u001b[0m     \u001b[39m# urllib might not use mode='rb', so handle this one ourselves:\u001b[39;00m\n\u001b[0;32m    879\u001b[0m     \u001b[39mreturn\u001b[39;00m find(path_, [\u001b[39m\"\u001b[39m\u001b[39m\"\u001b[39m])\u001b[39m.\u001b[39mopen()\n",
      "File \u001b[1;32mc:\\Python312\\Lib\\site-packages\\nltk\\data.py:583\u001b[0m, in \u001b[0;36mfind\u001b[1;34m(resource_name, paths)\u001b[0m\n\u001b[0;32m    581\u001b[0m sep \u001b[39m=\u001b[39m \u001b[39m\"\u001b[39m\u001b[39m*\u001b[39m\u001b[39m\"\u001b[39m \u001b[39m*\u001b[39m \u001b[39m70\u001b[39m\n\u001b[0;32m    582\u001b[0m resource_not_found \u001b[39m=\u001b[39m \u001b[39mf\u001b[39m\u001b[39m\"\u001b[39m\u001b[39m\\n\u001b[39;00m\u001b[39m{\u001b[39;00msep\u001b[39m}\u001b[39;00m\u001b[39m\\n\u001b[39;00m\u001b[39m{\u001b[39;00mmsg\u001b[39m}\u001b[39;00m\u001b[39m\\n\u001b[39;00m\u001b[39m{\u001b[39;00msep\u001b[39m}\u001b[39;00m\u001b[39m\\n\u001b[39;00m\u001b[39m\"\u001b[39m\n\u001b[1;32m--> 583\u001b[0m \u001b[39mraise\u001b[39;00m \u001b[39mLookupError\u001b[39;00m(resource_not_found)\n",
      "\u001b[1;31mLookupError\u001b[0m: \n**********************************************************************\n  Resource \u001b[93mpunkt\u001b[0m not found.\n  Please use the NLTK Downloader to obtain the resource:\n\n  \u001b[31m>>> import nltk\n  >>> nltk.download('punkt')\n  \u001b[0m\n  For more information see: https://www.nltk.org/data.html\n\n  Attempted to load \u001b[93mtokenizers/punkt/english.pickle\u001b[0m\n\n  Searched in:\n    - 'C:\\\\Users\\\\ayaan/nltk_data'\n    - 'c:\\\\Python312\\\\nltk_data'\n    - 'c:\\\\Python312\\\\share\\\\nltk_data'\n    - 'c:\\\\Python312\\\\lib\\\\nltk_data'\n    - 'C:\\\\Users\\\\ayaan\\\\AppData\\\\Roaming\\\\nltk_data'\n    - 'C:\\\\nltk_data'\n    - 'D:\\\\nltk_data'\n    - 'E:\\\\nltk_data'\n    - ''\n**********************************************************************\n"
     ]
    }
   ],
   "source": [
    "import requests\n",
    "import re\n",
    "from bs4 import BeautifulSoup\n",
    "from nltk.tokenize import word_tokenize\n",
    "from nltk.corpus import stopwords\n",
    "\n",
    "\n",
    "def preprocess_text(text):\n",
    "    text = text.encode(\"ascii\", \"ignore\").decode(\"utf-8\") #ignore non-printable chars\n",
    "\n",
    "    tokens = word_tokenize(text)\n",
    "\n",
    "    #Heard that stopwords are important\n",
    "    stop_words = set(stopwords.words(\"english\"))\n",
    "    stop_words_processingdata = [\"<\", \">\", \"p\", \"/\", \"n\", \"a\", \"\\\\\", \"r\"]\n",
    "    \n",
    "    #Decided to get rid of punctuation\n",
    "    punctuation = set(string.punctuation)\n",
    "    tokens = [token for token in tokens if token not in stop_words and token not in punctuation and token not in stop_words_processingdata]\n",
    "\n",
    "corpus = []\n",
    "\n",
    "for i in range(0, 3):\n",
    "    corpus.append(preprocess_text(str(QnA[i])))\n",
    "    print(corpus[i])\n",
    "\n",
    "print(len(corpus))"
   ]
  }
 ],
 "metadata": {
  "kernelspec": {
   "display_name": "Python 3",
   "language": "python",
   "name": "python3"
  },
  "language_info": {
   "codemirror_mode": {
    "name": "ipython",
    "version": 3
   },
   "file_extension": ".py",
   "mimetype": "text/x-python",
   "name": "python",
   "nbconvert_exporter": "python",
   "pygments_lexer": "ipython3",
   "version": "3.12.0"
  }
 },
 "nbformat": 4,
 "nbformat_minor": 2
}
